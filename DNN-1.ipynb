{
  "nbformat": 4,
  "nbformat_minor": 0,
  "metadata": {
    "colab": {
      "name": "1.housing",
      "provenance": [],
      "collapsed_sections": []
    },
    "kernelspec": {
      "name": "python3",
      "display_name": "Python 3"
    },
    "accelerator": "GPU"
  },
  "cells": [
    {
      "cell_type": "markdown",
      "metadata": {
        "id": "HvOwmX5tJiQJ"
      },
      "source": [
        "### Keras DNN으로 집값 예측하기"
      ]
    },
    {
      "cell_type": "markdown",
      "metadata": {
        "id": "HA4sWO1sJ8mZ"
      },
      "source": [
        "1. 패키지 수입 및 파라미터 설정"
      ]
    },
    {
      "cell_type": "code",
      "metadata": {
        "id": "dQFvvHMDBWa-"
      },
      "source": [
        "# 수입\r\n",
        "import pandas as pd\r\n",
        "import matplotlib.pyplot as plt\r\n",
        "import seaborn as sns                   # import : 특정 패키지를 가지고 온다.\r\n",
        "\r\n",
        "from time import time                   # from : 패키지에 특정 함수만 가지고 온다. \r\n",
        "from keras.models import Sequential          \r\n",
        "from keras.layers import Dense\r\n",
        "from sklearn.preprocessing import StandardScaler\r\n",
        "from sklearn.model_selection import train_test_split"
      ],
      "execution_count": 1,
      "outputs": []
    },
    {
      "cell_type": "code",
      "metadata": {
        "id": "vNb5p9ovNt63"
      },
      "source": [
        "# 파라미터\r\n",
        "MY_HIDDEN = 900    # 뉴런 갯수\r\n",
        "MY_EPOCH = 200      # 데이터를 500번 반복 학습\r\n",
        "\r\n",
        "#pd.set_option('display.max_columns', None)     ## 생략된 부분을 보여줌"
      ],
      "execution_count": 2,
      "outputs": []
    },
    {
      "cell_type": "markdown",
      "metadata": {
        "id": "r0aOC8QcOoOE"
      },
      "source": [
        "2. 데이터 처리"
      ]
    },
    {
      "cell_type": "code",
      "metadata": {
        "colab": {
          "base_uri": "https://localhost:8080/"
        },
        "id": "1FAnpPduOvpD",
        "outputId": "31723122-3e3d-4f33-a673-bd4c783a28ea"
      },
      "source": [
        "# 데이터 읽기\r\n",
        "raw = pd.read_csv('/content/drive/MyDrive/data/housing.csv')\r\n",
        "\r\n",
        "# 데이터 샘플 10개 출력\r\n",
        "print(raw.head(10))\r\n",
        "\r\n",
        "# 데이터 통계 출력\r\n",
        "print(raw.describe())     # describe : 데이터의 통계를 내라"
      ],
      "execution_count": 3,
      "outputs": [
        {
          "output_type": "stream",
          "text": [
            "      CRIM    ZN  INDUS  CHAS    NOX  ...  RAD  TAX  PTRATIO  LSTAT  MEDV\n",
            "0  0.00632  18.0   2.31     0  0.538  ...    1  296     15.3   4.98  24.0\n",
            "1  0.02731   0.0   7.07     0  0.469  ...    2  242     17.8   9.14  21.6\n",
            "2  0.02729   0.0   7.07     0  0.469  ...    2  242     17.8   4.03  34.7\n",
            "3  0.03237   0.0   2.18     0  0.458  ...    3  222     18.7   2.94  33.4\n",
            "4  0.06905   0.0   2.18     0  0.458  ...    3  222     18.7   5.33  36.2\n",
            "5  0.02985   0.0   2.18     0  0.458  ...    3  222     18.7   5.21  28.7\n",
            "6  0.08829  12.5   7.87     0  0.524  ...    5  311     15.2  12.43  22.9\n",
            "7  0.14455  12.5   7.87     0  0.524  ...    5  311     15.2  19.15  27.1\n",
            "8  0.21124  12.5   7.87     0  0.524  ...    5  311     15.2  29.93  16.5\n",
            "9  0.17004  12.5   7.87     0  0.524  ...    5  311     15.2  17.10  18.9\n",
            "\n",
            "[10 rows x 13 columns]\n",
            "             CRIM          ZN       INDUS  ...     PTRATIO       LSTAT        MEDV\n",
            "count  506.000000  506.000000  506.000000  ...  506.000000  506.000000  506.000000\n",
            "mean     3.613524   11.363636   11.136779  ...   18.455534   12.653063   22.532806\n",
            "std      8.601545   23.322453    6.860353  ...    2.164946    7.141062    9.197104\n",
            "min      0.006320    0.000000    0.460000  ...   12.600000    1.730000    5.000000\n",
            "25%      0.082045    0.000000    5.190000  ...   17.400000    6.950000   17.025000\n",
            "50%      0.256510    0.000000    9.690000  ...   19.050000   11.360000   21.200000\n",
            "75%      3.677082   12.500000   18.100000  ...   20.200000   16.955000   25.000000\n",
            "max     88.976200  100.000000   27.740000  ...   22.000000   37.970000   50.000000\n",
            "\n",
            "[8 rows x 13 columns]\n"
          ],
          "name": "stdout"
        }
      ]
    },
    {
      "cell_type": "code",
      "metadata": {
        "colab": {
          "base_uri": "https://localhost:8080/",
          "height": 510
        },
        "id": "579LG9sQVZr2",
        "outputId": "6e1b2748-27ff-4465-d4f9-2efae9b5b103"
      },
      "source": [
        "# 데이터 시각화\r\n",
        "plt.figure(figsize=(15, 8))   ## 15 by 8의 크기의 차트를 넣어줌\r\n",
        "sns.set(font_scale=1.5)\r\n",
        "sns.boxplot(data=raw, palette='dark')"
      ],
      "execution_count": 4,
      "outputs": [
        {
          "output_type": "execute_result",
          "data": {
            "text/plain": [
              "<matplotlib.axes._subplots.AxesSubplot at 0x7fb2926ecba8>"
            ]
          },
          "metadata": {
            "tags": []
          },
          "execution_count": 4
        },
        {
          "output_type": "display_data",
          "data": {
            "image/png": "[encoded data removed]",
            "text/plain": [
              "<Figure size 1080x576 with 1 Axes>"
            ]
          },
          "metadata": {
            "tags": [],
            "needs_background": "light"
          }
        }
      ]
    },
    {
      "cell_type": "code",
      "metadata": {
        "colab": {
          "base_uri": "https://localhost:8080/"
        },
        "id": "05NNTG8AZaU3",
        "outputId": "668f577c-4901-4887-e921-4328df37fc30"
      },
      "source": [
        "# Z-점수 정규화\r\n",
        "scaler = StandardScaler()\r\n",
        "Z_data = scaler.fit_transform(raw)    # Z_data가 pandas에서 numpy로 넘어감. -> 칼럼 이름이 지워져서 숫자로 변환됨\r\n",
        "                                      # fit_transform : 정규화를 진행하는 함수                         \r\n",
        "# 데이터 형식 출력\r\n",
        "print(type(raw))\r\n",
        "print(type(Z_data))\r\n",
        "\r\n",
        "# numpy를 pandas로 재전환\r\n",
        "Z_data = pd.DataFrame(Z_data)\r\n",
        "print(type(Z_data))\r\n",
        "\r\n",
        "# Z-점수 정규화 된 데이터 샘플 출력\r\n",
        "print(Z_data.head(10))    # 전과 후 데이터의 차이 값의 범위의 폭이 좁아졌다.\r\n",
        "print(Z_data.describe())  # Z-점수 정규화 : 표준편차(std)가 1로 바뀜, 평균값이 0으로 바뀐다. (종모양)\r\n",
        "                          #  => 모든 요소들의 범위가 비슷해짐"
      ],
      "execution_count": 5,
      "outputs": [
        {
          "output_type": "stream",
          "text": [
            "<class 'pandas.core.frame.DataFrame'>\n",
            "<class 'numpy.ndarray'>\n",
            "<class 'pandas.core.frame.DataFrame'>\n",
            "         0         1         2   ...        10        11        12\n",
            "0 -0.419782  0.284830 -1.287909  ... -1.459000 -1.075562  0.159686\n",
            "1 -0.417339 -0.487722 -0.593381  ... -0.303094 -0.492439 -0.101524\n",
            "2 -0.417342 -0.487722 -0.593381  ... -0.303094 -1.208727  1.324247\n",
            "3 -0.416750 -0.487722 -1.306878  ...  0.113032 -1.361517  1.182758\n",
            "4 -0.412482 -0.487722 -1.306878  ...  0.113032 -1.026501  1.487503\n",
            "5 -0.417044 -0.487722 -1.306878  ...  0.113032 -1.043322  0.671222\n",
            "6 -0.410243  0.048772 -0.476654  ... -1.505237 -0.031268  0.039964\n",
            "7 -0.403696  0.048772 -0.476654  ... -1.505237  0.910700  0.497082\n",
            "8 -0.395935  0.048772 -0.476654  ... -1.505237  2.421774 -0.656595\n",
            "9 -0.400729  0.048772 -0.476654  ... -1.505237  0.623344 -0.395385\n",
            "\n",
            "[10 rows x 13 columns]\n",
            "                 0             1   ...            11            12\n",
            "count  5.060000e+02  5.060000e+02  ...  5.060000e+02  5.060000e+02\n",
            "mean  -8.688702e-17  3.306534e-16  ... -1.595123e-16 -4.247810e-16\n",
            "std    1.000990e+00  1.000990e+00  ...  1.000990e+00  1.000990e+00\n",
            "min   -4.197819e-01 -4.877224e-01  ... -1.531127e+00 -1.908226e+00\n",
            "25%   -4.109696e-01 -4.877224e-01  ... -7.994200e-01 -5.994557e-01\n",
            "50%   -3.906665e-01 -4.877224e-01  ... -1.812536e-01 -1.450593e-01\n",
            "75%    7.396560e-03  4.877224e-02  ...  6.030188e-01  2.685231e-01\n",
            "max    9.933931e+00  3.804234e+00  ...  3.548771e+00  2.989460e+00\n",
            "\n",
            "[8 rows x 13 columns]\n"
          ],
          "name": "stdout"
        }
      ]
    },
    {
      "cell_type": "code",
      "metadata": {
        "colab": {
          "base_uri": "https://localhost:8080/",
          "height": 510
        },
        "id": "YAMnrLiHklv0",
        "outputId": "fbcf3093-05c6-472f-9cd0-32bb65095234"
      },
      "source": [
        "plt.figure(figsize=(15, 8))   ## 15 by 8의 크기의 차트를 넣어줌\r\n",
        "sns.set(font_scale=1.5)\r\n",
        "sns.boxplot(data=Z_data, palette='dark')"
      ],
      "execution_count": 6,
      "outputs": [
        {
          "output_type": "execute_result",
          "data": {
            "text/plain": [
              "<matplotlib.axes._subplots.AxesSubplot at 0x7fb29c477ef0>"
            ]
          },
          "metadata": {
            "tags": []
          },
          "execution_count": 6
        },
        {
          "output_type": "display_data",
          "data": {
            "image/png": "[encoded data removed]",
            "text/plain": [
              "<Figure size 1080x576 with 1 Axes>"
            ]
          },
          "metadata": {
            "tags": []
          }
        }
      ]
    },
    {
      "cell_type": "code",
      "metadata": {
        "colab": {
          "base_uri": "https://localhost:8080/"
        },
        "id": "cNYnE8SVlVaS",
        "outputId": "473483ae-fd8c-4bcc-b61f-708e27ab1e9b"
      },
      "source": [
        "# 데이터 모양 출력\r\n",
        "print('분리 전 : ', Z_data.shape)   # >>(506, 13) : 행렬, 506:동네의 개수, 13:영향요소\r\n",
        "\r\n",
        "# 데이터를 입력과 출력으로 분리\r\n",
        "X_data = Z_data.drop(12, axis=1)  # X_data는 열에서 맨 오른쪽 하나를 제외 \r\n",
        "                                  # -> 12번째 칼럼을 지운다. axis = 1은 raw를 지움, 0은 columns\r\n",
        "Y_data = Z_data[12]               # 출력은 MEDV컬럼만 취해라\r\n",
        "\r\n",
        "#X_data = Z_data.drop(6, axis=1)\r\n",
        "#Y_data = Z_data[6]\r\n",
        "\r\n",
        "print('분리 후 : ')\r\n",
        "print(X_data.shape)\r\n",
        "print(Y_data.shape)"
      ],
      "execution_count": 7,
      "outputs": [
        {
          "output_type": "stream",
          "text": [
            "분리 전 :  (506, 13)\n",
            "분리 후 : \n",
            "(506, 12)\n",
            "(506,)\n"
          ],
          "name": "stdout"
        }
      ]
    },
    {
      "cell_type": "code",
      "metadata": {
        "colab": {
          "base_uri": "https://localhost:8080/"
        },
        "id": "66O2BYEDrbnF",
        "outputId": "61b5b1df-6e73-41b5-d45b-3c5db6813df2"
      },
      "source": [
        "# 데이터 4분할\r\n",
        "X_train, X_test, Y_train, Y_test = train_test_split(X_data, \r\n",
        "                                                    Y_data,\r\n",
        "                                                    train_size = 0.7)\r\n",
        "\r\n",
        "# 최종 데이터 모양 출력\r\n",
        "print('학습용 입력 데이터 모양 : ', X_train.shape)\r\n",
        "print('학습용 출력 데이터 모양 : ', Y_train.shape)\r\n",
        "print('평가용 입력 데이터 모양 : ', X_test.shape)\r\n",
        "print('평가용 출력 데이터 모양 : ', Y_test.shape)"
      ],
      "execution_count": 8,
      "outputs": [
        {
          "output_type": "stream",
          "text": [
            "학습용 입력 데이터 모양 :  (354, 12)\n",
            "학습용 출력 데이터 모양 :  (354,)\n",
            "평가용 입력 데이터 모양 :  (152, 12)\n",
            "평가용 출력 데이터 모양 :  (152,)\n"
          ],
          "name": "stdout"
        }
      ]
    },
    {
      "cell_type": "markdown",
      "metadata": {
        "id": "SLB5b-dPwCWJ"
      },
      "source": [
        "3. 인공 신경망 구현"
      ]
    },
    {
      "cell_type": "code",
      "metadata": {
        "colab": {
          "base_uri": "https://localhost:8080/"
        },
        "id": "FPzSxehZwJ88",
        "outputId": "3eb4405c-a27c-4ffc-8b5d-9604d41094c7"
      },
      "source": [
        "model = Sequential()\r\n",
        "\r\n",
        "input = X_train.shape[1]  # 12\r\n",
        "\r\n",
        "# 입력층과 은닉층 1 추가\r\n",
        "model.add(Dense(units=MY_HIDDEN, \r\n",
        "                input_dim=input,\r\n",
        "                activation = 'relu'))\r\n",
        "# 은닉층 2 추가\r\n",
        "model.add(Dense(units=MY_HIDDEN,\r\n",
        "                activation = 'relu'))\r\n",
        "\r\n",
        "# 출력층 추가\r\n",
        "model.add(Dense(units=1))\r\n",
        "\r\n",
        "print('DNN 요약')\r\n",
        "model.summary()   # summary에서는 입력층을 출력하지 않음. dense,_1: 은닉층1,2  dense_2 : 출력층 "
      ],
      "execution_count": 9,
      "outputs": [
        {
          "output_type": "stream",
          "text": [
            "DNN 요약\n",
            "Model: \"sequential\"\n",
            "_________________________________________________________________\n",
            "Layer (type)                 Output Shape              Param #   \n",
            "=================================================================\n",
            "dense (Dense)                (None, 900)               11700     \n",
            "_________________________________________________________________\n",
            "dense_1 (Dense)              (None, 900)               810900    \n",
            "_________________________________________________________________\n",
            "dense_2 (Dense)              (None, 1)                 901       \n",
            "=================================================================\n",
            "Total params: 823,501\n",
            "Trainable params: 823,501\n",
            "Non-trainable params: 0\n",
            "_________________________________________________________________\n"
          ],
          "name": "stdout"
        }
      ]
    },
    {
      "cell_type": "markdown",
      "metadata": {
        "id": "Lew_AwmXlq4B"
      },
      "source": [
        "4. 인공 신경망 학습"
      ]
    },
    {
      "cell_type": "code",
      "metadata": {
        "colab": {
          "base_uri": "https://localhost:8080/"
        },
        "id": "d-2XevdYlwEI",
        "outputId": "21621a2e-24af-4cd1-cd49-e26badae2d5a"
      },
      "source": [
        "# 학습 환경 설정\r\n",
        "model.compile(optimizer='sgd',\r\n",
        "              loss='mse')\r\n",
        "\r\n",
        "print('학습 시작')\r\n",
        "begin = time()\r\n",
        "\r\n",
        "model.fit(x=X_train,              # fit : 학습을 하는 함수\r\n",
        "          y=Y_train,\r\n",
        "          epochs=MY_EPOCH,\r\n",
        "          verbose=0)              # verbose=0 이면 학습 내용을 출력하지 않음 , 2는 내용 출력\r\n",
        "\r\n",
        "end = time()\r\n",
        "print('총 학습 시간: {:.2f}초'.format(end - begin))"
      ],
      "execution_count": 10,
      "outputs": [
        {
          "output_type": "stream",
          "text": [
            "학습 시작\n",
            "총 학습 시간: 4.04초\n"
          ],
          "name": "stdout"
        }
      ]
    },
    {
      "cell_type": "markdown",
      "metadata": {
        "id": "kj0MEvK6p6rO"
      },
      "source": [
        "5. 인공 신경망 평가"
      ]
    },
    {
      "cell_type": "code",
      "metadata": {
        "colab": {
          "base_uri": "https://localhost:8080/"
        },
        "id": "75WlvSo7p5mm",
        "outputId": "341266f4-5e84-4a52-c6ca-218c55c9736c"
      },
      "source": [
        "# 신경망 평가\r\n",
        "loss = model.evaluate(x=X_test,\r\n",
        "                      y= Y_test,\r\n",
        "                      verbose=0)\r\n",
        "\r\n",
        "print('최종 손실값: {:.2f}'.format(loss))\r\n",
        "print('최종 손실값:', loss)"
      ],
      "execution_count": 11,
      "outputs": [
        {
          "output_type": "stream",
          "text": [
            "최종 손실값: 0.10\n",
            "최종 손실값: 0.09901081770658493\n"
          ],
          "name": "stdout"
        }
      ]
    },
    {
      "cell_type": "code",
      "metadata": {
        "colab": {
          "base_uri": "https://localhost:8080/",
          "height": 641
        },
        "id": "ktcyo0bDskEO",
        "outputId": "a03b27dd-6a5e-4f6f-f8e4-f12eb4cda21d"
      },
      "source": [
        "# DNN으로 예측\r\n",
        "pred = model.predict(x=X_test)        #pred : 추측값\r\n",
        "plt.figure(figsize=(10, 10))\r\n",
        "\r\n",
        "sns.regplot(x=Y_test, y=pred)         # 정답과 추측값을 비교\r\n",
        "\r\n",
        "# 인공지능의 회귀문제를 풀때, 인공신경망의 정확도를 시각화 하기 위해서 산포도를 주로 사용함."
      ],
      "execution_count": 12,
      "outputs": [
        {
          "output_type": "execute_result",
          "data": {
            "text/plain": [
              "<matplotlib.axes._subplots.AxesSubplot at 0x7fb28024c358>"
            ]
          },
          "metadata": {
            "tags": []
          },
          "execution_count": 12
        },
        {
          "output_type": "display_data",
          "data": {
            "image/png": "[encoded data removed]",
            "text/plain": [
              "<Figure size 720x720 with 1 Axes>"
            ]
          },
          "metadata": {
            "tags": []
          }
        }
      ]
    },
    {
      "cell_type": "code",
      "metadata": {
        "colab": {
          "base_uri": "https://localhost:8080/"
        },
        "id": "c5kGJzYQr7Ot",
        "outputId": "8788490b-9cae-4700-add2-c1dbf624461b"
      },
      "source": [
        "print(type(X_test))\r\n",
        "print(X_test.iloc[0])     # 파일형식이 Numpy인 경우에는 X_test[0]이여도 괜찮지만 pandas에서는 .iloc를 추가해줘야한다.\r\n",
        "print(Y_test.iloc[0])"
      ],
      "execution_count": 13,
      "outputs": [
        {
          "output_type": "stream",
          "text": [
            "<class 'pandas.core.frame.DataFrame'>\n",
            "0    -0.387983\n",
            "1    -0.487722\n",
            "2    -0.211099\n",
            "3    -0.272599\n",
            "4     0.261784\n",
            "5    -0.510932\n",
            "6    -0.923682\n",
            "7    -0.671859\n",
            "8    -0.408041\n",
            "9    -0.102376\n",
            "10    0.344213\n",
            "11    0.131334\n",
            "Name: 494, dtype: float64\n",
            "0.21410439747436766\n"
          ],
          "name": "stdout"
        }
      ]
    }
  ]
}